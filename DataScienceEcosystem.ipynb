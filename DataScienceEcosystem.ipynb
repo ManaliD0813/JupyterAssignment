{
 "cells": [
  {
   "cell_type": "markdown",
   "id": "af513c0d-7012-4d0e-8a60-cd4f017addb0",
   "metadata": {},
   "source": [
    "# Data Science Tools and Eco System"
   ]
  },
  {
   "cell_type": "markdown",
   "id": "8e59387c-d099-49c4-9136-a2ba726fe66d",
   "metadata": {},
   "source": [
    "In this notebook,Data Science tools and Eco System are summarized"
   ]
  },
  {
   "cell_type": "markdown",
   "id": "861ec044-0b60-4d6c-ada4-64412eff8230",
   "metadata": {},
   "source": [
    "  Some of the popular languages that Data Scientist use are :\n",
    "  1. Python\n",
    "  2. R Language\n",
    "  3. SQL\n",
    "  4. JAVA"
   ]
  },
  {
   "cell_type": "markdown",
   "id": "aa80a458-3fba-4214-b6fb-d938e08a3d53",
   "metadata": {},
   "source": [
    "Some of the commonly used libraries used by Data Scientists include :\n",
    "1. Scientific Computing Libraries in Python\n",
    "2. Visualization Libraries in Python\n",
    "3. High Level Machine Learning and Deep Learning"
   ]
  },
  {
   "cell_type": "markdown",
   "id": "90f54774-1a59-4164-8cb5-6763b7f1529d",
   "metadata": {},
   "source": [
    "| Data Science Tools |\n",
    "|--------------------|\n",
    "|     RStudio        |\n",
    "|    Tensor Flow     |\n",
    "|   Apache Spark     |\n",
    "\n",
    "\n"
   ]
  },
  {
   "cell_type": "markdown",
   "id": "2cdaa8f3-462f-4c8e-85ba-ba567d4c2fcb",
   "metadata": {},
   "source": [
    "### Below are a few examples of evaluating arithmetic expressions in Python"
   ]
  },
  {
   "cell_type": "markdown",
   "id": "a08e0b02-206a-44af-91af-d56ed0599290",
   "metadata": {},
   "source": [
    "This a simple arithmetic expression to multiply then add integers"
   ]
  },
  {
   "cell_type": "code",
   "execution_count": 3,
   "id": "55ec9bf4-7dc3-453e-8dda-92565ce379f2",
   "metadata": {
    "tags": []
   },
   "outputs": [
    {
     "data": {
      "text/plain": [
       "17"
      ]
     },
     "execution_count": 3,
     "metadata": {},
     "output_type": "execute_result"
    }
   ],
   "source": [
    "(3*4)+5"
   ]
  },
  {
   "cell_type": "markdown",
   "id": "8b9b3cf1-c8b6-4d80-9b06-19cae78b725f",
   "metadata": {},
   "source": [
    "This will convert 200 minutes to hours by diving by 60."
   ]
  },
  {
   "cell_type": "code",
   "execution_count": 4,
   "id": "f0b76b49-9e4b-432a-bc6c-89741ff7b7c8",
   "metadata": {
    "tags": []
   },
   "outputs": [
    {
     "data": {
      "text/plain": [
       "3.3333333333333335"
      ]
     },
     "execution_count": 4,
     "metadata": {},
     "output_type": "execute_result"
    }
   ],
   "source": [
    "200/60"
   ]
  },
  {
   "cell_type": "markdown",
   "id": "8c0dc1c5-87eb-4b8c-ad5b-d6e67a2126af",
   "metadata": {},
   "source": [
    "**Objectives :**\n",
    "\n",
    "* List of Data Science Tools.\n",
    "* List of popular languages for Data Science.\n",
    "* List of Libraries for Data Science."
   ]
  },
  {
   "cell_type": "markdown",
   "id": "97c085c3-4a13-4b8e-ae4c-cf5bc32d3842",
   "metadata": {},
   "source": [
    "## Author\n",
    "Manali Dolare"
   ]
  },
  {
   "cell_type": "code",
   "execution_count": null,
   "id": "e5039498-114a-40cf-b0cf-8574c5f4160f",
   "metadata": {},
   "outputs": [],
   "source": []
  }
 ],
 "metadata": {
  "kernelspec": {
   "display_name": "Python",
   "language": "python",
   "name": "conda-env-python-py"
  },
  "language_info": {
   "codemirror_mode": {
    "name": "ipython",
    "version": 3
   },
   "file_extension": ".py",
   "mimetype": "text/x-python",
   "name": "python",
   "nbconvert_exporter": "python",
   "pygments_lexer": "ipython3",
   "version": "3.7.12"
  }
 },
 "nbformat": 4,
 "nbformat_minor": 5
}
